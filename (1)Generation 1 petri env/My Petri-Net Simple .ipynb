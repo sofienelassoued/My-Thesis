{
 "cells": [
  {
   "cell_type": "code",
   "execution_count": 36,
   "metadata": {},
   "outputs": [],
   "source": [
    "places_list=[]\n",
    "transition_list=[]\n",
    "state=[]"
   ]
  },
  {
   "cell_type": "code",
   "execution_count": 288,
   "metadata": {},
   "outputs": [],
   "source": [
    "\n",
    "class place:\n",
    "    def __init__(self):\n",
    "        \n",
    "        self.token=0\n",
    "        self.in_tran=[]\n",
    "        self.out_tran=[]\n",
    "        \n",
    "        print (\"\\n\")\n",
    "        self.token= int( input(f\"Initial number of token in the place : \"))\n",
    "        \n",
    "        for a in range (0,int(input (\"Number of input transition arcs : \"))):\n",
    "            self.in_tran.append(input(f\" input arc number {a+1} \").upper())\n",
    "            \n",
    "        for a in range (0,int(input (\"Number of output transition arcs : \"))):\n",
    "            self.out_tran.append(input(f\" out arc number {a+1} \").upper())\n",
    "            \n",
    "        \n",
    "    def __str__(self):\n",
    "        return(f\"The defined place : number of initial tokens: {self.token} \\\n",
    "        input transitions {self.in_tran}, output transition: {self.out_tran}\")\n",
    "    \n",
    "    \n",
    "class transition:\n",
    "    \n",
    "    def __init__(self):\n",
    "        \n",
    "        self.in_places=[]\n",
    "        self.out_places=[]\n",
    "        \n",
    "        for a in range (0,int(input (f\"Number of input places arcs in transition  : \"))):   \n",
    "            self.in_places.append(input(f\" input arc number {a+1} \").upper())\n",
    "            \n",
    "        for a in range (0,int(input (f\"Number of output places arcs in transition : \"))):\n",
    "            self.out_places.append(input(f\" out arc number {a+1} \").upper())\n",
    "                              \n",
    "    def __str__(self):\n",
    "        return(f\"The defined Transition :  input in_place {self.in_place}, output in_place: {self.in_place}\")    \n",
    "        \n",
    "    def __str__(self):\n",
    "        return(f\"The defined Transition  :\\\n",
    "        input places {self.in_places}, output places: {self.out_places}\")   \n",
    "              \n",
    "        \n",
    "class Petri_net :\n",
    "    \n",
    "    def __init__(self): \n",
    "         \n",
    "            \n",
    "        global places_list\n",
    "        global transition_list\n",
    "        \n",
    "        self.places_dic={\"P1\":places_list[0],\"P2\":places_list[1],\"P3\":places_list[2],\"P4\":places_list[3]}\n",
    "        self.transition_dict={\"T1\":transition_list[0],\"T2\":transition_list[1]}\n",
    "\n",
    "        \n",
    "    def Add_place(self):            \n",
    "            places_list.append(place())\n",
    "            \n",
    "            \n",
    "    def Add_transition(self):     \n",
    "            transition_list.append(transition())           \n",
    "    \n",
    "    def Petri_definition (self):\n",
    "        \n",
    "        n_places=int(input (\"Total Number of Places in the Petri : \"))\n",
    "        n_transition=int(input (\"Total Number of transition in the Petri : \"))\n",
    "        \n",
    "        for i in range (n_places):\n",
    "            places_list.append(place())        \n",
    "        for i in range (n_transition):\n",
    "            transition_list.append(transition())\n",
    "            \n",
    "            \n",
    "                \n",
    "    def possible_firing(self) :\n",
    "        \n",
    "        situation=[True]*len(transition_list)      \n",
    "        for i in range (len(transition_list)):\n",
    "            \n",
    "                for j in range (len (transition_list[i].in_places)):\n",
    "                    if (places_dic [(transition_list[i].in_places[j])].token)-1<0:                        \n",
    "                        situation[i]=False\n",
    "        return situation\n",
    "                \n",
    "                \n",
    "    def firing (self,ref):\n",
    "        \n",
    "        for i in range (len(transition_dict[ref].in_places)):                 \n",
    "            if places_dic[transition_dict[ref].in_places[i]].token-1<0:\n",
    "          \n",
    "                print(\"firing Halted\")\n",
    "                break\n",
    "                \n",
    "            else:\n",
    "                \n",
    "                for i in range (len(transition_dict[ref].in_places)):                   \n",
    "                    places_dic[transition_dict[ref].in_places[i]].token-=1\n",
    "                \n",
    "                for i in range (len(transition_dict[ref].out_places)):                   \n",
    "                    places_dic[transition_dict[ref].out_places[i]].token+=1                \n",
    "                print (\"firing successful \")   \n",
    "                break\n",
    "                \n",
    "\n",
    "def update_state():\n",
    "    \n",
    "    global state\n",
    "    \n",
    "    state=[0]*len(places_list)\n",
    "\n",
    "    for p in range (0,len(places_list)): \n",
    "        state[p]=places_list[p].token\n",
    "\n",
    "    return state \n",
    "\n",
    "        "
   ]
  },
  {
   "cell_type": "code",
   "execution_count": 289,
   "metadata": {},
   "outputs": [],
   "source": [
    "mypnet=Petri_net()"
   ]
  },
  {
   "cell_type": "code",
   "execution_count": 42,
   "metadata": {},
   "outputs": [
    {
     "name": "stdout",
     "output_type": "stream",
     "text": [
      "Total Number of Places in the Petri : 4\n",
      "Total Number of transition in the Petri : 2\n",
      "\n",
      "\n",
      "Initial number of token in the place : 1\n",
      "Number of input transition arcs : 1\n",
      " input arc number 1 t2\n",
      "Number of output transition arcs : 1\n",
      " out arc number 1 t1\n",
      "\n",
      "\n",
      "Initial number of token in the place : 0\n",
      "Number of input transition arcs : 1\n",
      " input arc number 1 t1\n",
      "Number of output transition arcs : 1\n",
      " out arc number 1 t2\n",
      "\n",
      "\n",
      "Initial number of token in the place : 2\n",
      "Number of input transition arcs : 1\n",
      " input arc number 1 t1\n",
      "Number of output transition arcs : 1\n",
      " out arc number 1 t2\n",
      "\n",
      "\n",
      "Initial number of token in the place : 1\n",
      "Number of input transition arcs : 1\n",
      " input arc number 1 t2\n",
      "Number of output transition arcs : 0\n",
      "Number of input places arcs in transition  : 1\n",
      " input arc number 1 p1\n",
      "Number of output places arcs in transition : 2\n",
      " out arc number 1 p2\n",
      " out arc number 2 p3\n",
      "Number of input places arcs in transition  : 2\n",
      " input arc number 1 p2\n",
      " input arc number 2 p3\n",
      "Number of output places arcs in transition : 2\n",
      " out arc number 1 p1\n",
      " out arc number 2 p4\n"
     ]
    }
   ],
   "source": [
    "#mypnet.Petri_definition()"
   ]
  },
  {
   "cell_type": "code",
   "execution_count": 235,
   "metadata": {},
   "outputs": [],
   "source": [
    "places_dic[\"P4\"].token=1"
   ]
  },
  {
   "cell_type": "code",
   "execution_count": 95,
   "metadata": {},
   "outputs": [
    {
     "data": {
      "text/plain": [
       "(4, 2)"
      ]
     },
     "execution_count": 95,
     "metadata": {},
     "output_type": "execute_result"
    }
   ],
   "source": [
    "len(places_list),len(transition_list)"
   ]
  },
  {
   "cell_type": "code",
   "execution_count": 184,
   "metadata": {},
   "outputs": [
    {
     "data": {
      "text/plain": [
       "[1, 0, 2, 1]"
      ]
     },
     "execution_count": 184,
     "metadata": {},
     "output_type": "execute_result"
    }
   ],
   "source": [
    "update_state()"
   ]
  },
  {
   "cell_type": "code",
   "execution_count": 121,
   "metadata": {},
   "outputs": [
    {
     "name": "stdout",
     "output_type": "stream",
     "text": [
      "The defined place : number of initial tokens: 1         input transitions ['T2'], output transition: ['T1']\n",
      "The defined place : number of initial tokens: 0         input transitions ['T1'], output transition: ['T2']\n",
      "The defined place : number of initial tokens: 2         input transitions ['T1'], output transition: ['T2']\n",
      "The defined place : number of initial tokens: 1         input transitions ['T2'], output transition: []\n",
      "\n",
      "\n",
      "The defined Transition  :        input places ['P1'], output places: ['P2', 'P3']\n",
      "The defined Transition  :        input places ['P2', 'P3'], output places: ['P1', 'P4']\n"
     ]
    }
   ],
   "source": [
    "for i in range (len (places_list)) :\n",
    "    print (places_list[i])\n",
    "print(\"\\n\")    \n",
    "    \n",
    "for i in range (len (transition_list)) :\n",
    "    print (transition_list[i])"
   ]
  },
  {
   "cell_type": "code",
   "execution_count": 142,
   "metadata": {},
   "outputs": [
    {
     "data": {
      "text/plain": [
       "'P1'"
      ]
     },
     "execution_count": 142,
     "metadata": {},
     "output_type": "execute_result"
    }
   ],
   "source": [
    "(transition_list[0].in_places[0])"
   ]
  },
  {
   "cell_type": "code",
   "execution_count": 284,
   "metadata": {},
   "outputs": [
    {
     "data": {
      "text/plain": [
       "[1, 0, 2, 1]"
      ]
     },
     "execution_count": 284,
     "metadata": {},
     "output_type": "execute_result"
    }
   ],
   "source": [
    "update_state()"
   ]
  },
  {
   "cell_type": "code",
   "execution_count": 291,
   "metadata": {},
   "outputs": [
    {
     "name": "stdout",
     "output_type": "stream",
     "text": [
      "firing successful \n"
     ]
    }
   ],
   "source": [
    "mypnet.firing(\"T2\")"
   ]
  },
  {
   "cell_type": "code",
   "execution_count": 292,
   "metadata": {},
   "outputs": [
    {
     "data": {
      "text/plain": [
       "[1, 0, 2, 2]"
      ]
     },
     "execution_count": 292,
     "metadata": {},
     "output_type": "execute_result"
    }
   ],
   "source": [
    "update_state()\n"
   ]
  },
  {
   "cell_type": "code",
   "execution_count": 293,
   "metadata": {},
   "outputs": [
    {
     "data": {
      "text/plain": [
       "[True, False]"
      ]
     },
     "execution_count": 293,
     "metadata": {},
     "output_type": "execute_result"
    }
   ],
   "source": [
    "mypnet.possible_firing()"
   ]
  },
  {
   "cell_type": "code",
   "execution_count": null,
   "metadata": {},
   "outputs": [],
   "source": []
  }
 ],
 "metadata": {
  "kernelspec": {
   "display_name": "Python 3",
   "language": "python",
   "name": "python3"
  },
  "language_info": {
   "codemirror_mode": {
    "name": "ipython",
    "version": 3
   },
   "file_extension": ".py",
   "mimetype": "text/x-python",
   "name": "python",
   "nbconvert_exporter": "python",
   "pygments_lexer": "ipython3",
   "version": "3.8.3"
  }
 },
 "nbformat": 4,
 "nbformat_minor": 4
}
